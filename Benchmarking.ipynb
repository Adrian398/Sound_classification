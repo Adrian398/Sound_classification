{
  "nbformat": 4,
  "nbformat_minor": 0,
  "metadata": {
    "colab": {
      "name": "benchmarking.ipynb",
      "version": "0.3.2",
      "provenance": [],
      "toc_visible": true
    },
    "language_info": {
      "codemirror_mode": {
        "name": "ipython",
        "version": 3
      },
      "file_extension": ".py",
      "mimetype": "text/x-python",
      "name": "python",
      "nbconvert_exporter": "python",
      "pygments_lexer": "ipython3",
      "version": "3.5.2"
    },
    "kernelspec": {
      "display_name": "Python 3",
      "language": "python",
      "name": "python3"
    }
  },
  "cells": [
    {
      "cell_type": "markdown",
      "metadata": {
        "id": "ThWFHJDeiyjU",
        "colab_type": "text"
      },
      "source": [
        "# Benchmarking our model"
      ]
    },
    {
      "cell_type": "code",
      "metadata": {
        "id": "E4T48HhJiyja",
        "colab_type": "code",
        "colab": {}
      },
      "source": [
        "import numpy as np\n",
        "import pandas as pd\n",
        "import random\n",
        "from scipy.signal import spectrogram, stft\n",
        "import matplotlib.pyplot as plt\n",
        "%matplotlib inline\n",
        "\n",
        "from sklearn.preprocessing import StandardScaler\n",
        "from sklearn.model_selection import train_test_split\n",
        "from sklearn.utils import class_weight\n",
        "from sklearn.metrics import matthews_corrcoef, accuracy_score, f1_score, balanced_accuracy_score, confusion_matrix, accuracy_score, precision_score, recall_score\n",
        "from sklearn.ensemble import RandomForestClassifier\n",
        "from sklearn.naive_bayes import GaussianNB\n",
        "from sklearn.svm import SVC\n",
        "from sklearn.mixture import GaussianMixture\n",
        "\n",
        "import librosa\n",
        "import xgboost as xgb"
      ],
      "execution_count": 0,
      "outputs": []
    },
    {
      "cell_type": "code",
      "metadata": {
        "id": "QwtE0UdAiyji",
        "colab_type": "code",
        "colab": {}
      },
      "source": [
        "SAMPLE_RATE = 32000\n",
        "SEED = 42\n",
        "VAL_SPLIT = 0.1\n",
        "TEST_SPLIT = 0.2\n",
        "NFTT = 256\n",
        "N_TREES = 100"
      ],
      "execution_count": 0,
      "outputs": []
    },
    {
      "cell_type": "markdown",
      "metadata": {
        "id": "QzyBkww4iyjo",
        "colab_type": "text"
      },
      "source": [
        "## Load and prepare data"
      ]
    },
    {
      "cell_type": "code",
      "metadata": {
        "id": "t2-8UC9Liyjq",
        "colab_type": "code",
        "colab": {}
      },
      "source": [
        "x_niko = np.load(\"data/raw/x_niko.npy\")\n",
        "x_adrian = np.load(\"data/raw/x_adrian.npy\")\n",
        "x_toni = np.load(\"data/raw/x_toni.npy\")\n",
        "x_adrian2 = np.load(\"data/raw/x_adrian2.npy\")\n",
        "x_adrian3 = np.load(\"data/raw/x_adrian3.npy\")\n",
        "x_raw = np.concatenate((x_adrian, x_niko,x_toni,x_adrian2,x_adrian3), axis=0)"
      ],
      "execution_count": 0,
      "outputs": []
    },
    {
      "cell_type": "code",
      "metadata": {
        "id": "84iDSf5Piyjv",
        "colab_type": "code",
        "colab": {}
      },
      "source": [
        "y_niko = np.load(\"data/raw/y_niko.npy\")\n",
        "y_adrian = np.load(\"data/raw/y_adrian.npy\")\n",
        "y_toni = np.load(\"data/raw/y_toni.npy\")\n",
        "y_adrian2 = np.load(\"data/raw/y_adrian2.npy\")\n",
        "y_adrian3 = np.load(\"data/raw/y_adrian3.npy\")\n",
        "y_raw = np.concatenate((y_adrian, y_niko,y_toni,np.squeeze(y_adrian2),y_adrian3))"
      ],
      "execution_count": 0,
      "outputs": []
    },
    {
      "cell_type": "code",
      "metadata": {
        "id": "MKL5pB_7iyj1",
        "colab_type": "code",
        "colab": {}
      },
      "source": [
        "#fourier transformation\n",
        "x_four = np.load(\"x_four.npz\")\n",
        "\n",
        "#log scale \n",
        "x_log = 10. * np.log10(x_four+np.finfo(float).eps) # from plt.spectrogram\n",
        "x_log = x_log[:,:,:-1]"
      ],
      "execution_count": 0,
      "outputs": []
    },
    {
      "cell_type": "code",
      "metadata": {
        "id": "wE4MV36-iykG",
        "colab_type": "code",
        "colab": {}
      },
      "source": [
        "features = np.hstack([np.mean(x_log, axis=2),\n",
        "                      np.std(x_log, axis=2),\n",
        "                      np.median(x_log, axis=2),\n",
        "                      np.min(x_log, axis=2),\n",
        "                      np.max(x_log, axis=2)])\n",
        "\n",
        "print(len(features[0]) + \"Features created!\")"
      ],
      "execution_count": 0,
      "outputs": []
    },
    {
      "cell_type": "code",
      "metadata": {
        "id": "Jkvy7B6_iykU",
        "colab_type": "code",
        "colab": {}
      },
      "source": [
        "x_train, x_test, y_train, y_test = train_test_split(features, \n",
        "                                                    y_raw, \n",
        "                                                    test_size=TEST_SPLIT, \n",
        "                                                    stratify=y_raw,\n",
        "                                                    random_state=SEED)"
      ],
      "execution_count": 0,
      "outputs": []
    },
    {
      "cell_type": "markdown",
      "metadata": {
        "id": "VNmWRAbJiykc",
        "colab_type": "text"
      },
      "source": [
        "## Define models"
      ]
    },
    {
      "cell_type": "code",
      "metadata": {
        "id": "fkNEaJweiykd",
        "colab_type": "code",
        "colab": {}
      },
      "source": [
        "xgb_model = xgb.XGBClassifier(objective=\"binary:logistic\", random_state=SEED)\n",
        "clf = RandomForestClassifier(random_state=SEED)\n",
        "svc = SVC()\n",
        "nb = GaussianNB()\n",
        "model_list = [xgb_model, clf, svc, nb]"
      ],
      "execution_count": 0,
      "outputs": []
    },
    {
      "cell_type": "code",
      "metadata": {
        "id": "9rynQXISiykg",
        "colab_type": "code",
        "colab": {}
      },
      "source": [
        "xgb_model = xgb.XGBClassifier(n_estimators=N_TREES,\n",
        "                              objective=\"binary:logistic\", random_state=SEED)\n",
        "clf = RandomForestClassifier(n_estimators=N_TREES,\n",
        "                             random_state=SEED)\n",
        "svc = SVC()\n",
        "nb = GaussianNB()\n",
        "model_list = [xgb_model, clf, svc, nb]"
      ],
      "execution_count": 0,
      "outputs": []
    },
    {
      "cell_type": "code",
      "metadata": {
        "id": "u9Kfpwnxiykk",
        "colab_type": "code",
        "colab": {},
        "outputId": "7f5285e0-186f-422a-9778-fdcbf56b56b7"
      },
      "source": [
        "res_list = []\n",
        "for i, model in enumerate(model_list):\n",
        "    model.fit(x_train, y_train)\n",
        "    y_pred = model.predict(x_test)\n",
        "    res = [type(model).__name__,\n",
        "           balanced_accuracy_score(y_test, y_pred)*100,\n",
        "           precision_score(y_test, y_pred)*100,\n",
        "           recall_score(y_test, y_pred)*100,\n",
        "           f1_score(y_test, y_pred)*100,\n",
        "           matthews_corrcoef(y_test, y_pred)*100]\n",
        "    print(res)\n",
        "    res_list.append(res)"
      ],
      "execution_count": 0,
      "outputs": [
        {
          "output_type": "stream",
          "text": [
            "['XGBClassifier', 96.2482024733966, 96.32107023411372, 94.42622950819673, 95.36423841059603, 92.93201738615686]\n",
            "['RandomForestClassifier', 94.40322116767328, 98.55595667870037, 89.50819672131148, 93.81443298969072, 90.97903859169058]\n"
          ],
          "name": "stdout"
        },
        {
          "output_type": "stream",
          "text": [
            "/usr/local/lib/python3.5/dist-packages/sklearn/svm/base.py:196: FutureWarning: The default value of gamma will change from 'auto' to 'scale' in version 0.22 to account better for unscaled features. Set gamma explicitly to 'auto' or 'scale' to avoid this warning.\n",
            "  \"avoid this warning.\", FutureWarning)\n"
          ],
          "name": "stderr"
        },
        {
          "output_type": "stream",
          "text": [
            "['SVC', 84.26229508196721, 100.0, 68.52459016393443, 81.32295719844359, 76.5814414606606]\n",
            "['GaussianNB', 58.34483750359506, 39.12483912483912, 99.672131147541, 56.19223659889094, 25.218060375107747]\n"
          ],
          "name": "stdout"
        }
      ]
    },
    {
      "cell_type": "markdown",
      "metadata": {
        "id": "FiAZXxHuoTpQ",
        "colab_type": "text"
      },
      "source": [
        "## Create metrics"
      ]
    },
    {
      "cell_type": "code",
      "metadata": {
        "id": "t7ZVi3Hmiykp",
        "colab_type": "code",
        "colab": {},
        "outputId": "fa9ea487-f6e7-4f6f-8733-d7d55c1aca43"
      },
      "source": [
        "df = pd.DataFrame(res_list, columns=[\"Model\", \"Balanced \", \"Precision\", \"Recall\", \"F1\", \"MCC\"]).round(decimals=2)\n",
        "df"
      ],
      "execution_count": 0,
      "outputs": [
        {
          "output_type": "execute_result",
          "data": {
            "text/html": [
              "<div>\n",
              "<style scoped>\n",
              "    .dataframe tbody tr th:only-of-type {\n",
              "        vertical-align: middle;\n",
              "    }\n",
              "\n",
              "    .dataframe tbody tr th {\n",
              "        vertical-align: top;\n",
              "    }\n",
              "\n",
              "    .dataframe thead th {\n",
              "        text-align: right;\n",
              "    }\n",
              "</style>\n",
              "<table border=\"1\" class=\"dataframe\">\n",
              "  <thead>\n",
              "    <tr style=\"text-align: right;\">\n",
              "      <th></th>\n",
              "      <th>Model</th>\n",
              "      <th>Balanced</th>\n",
              "      <th>Precision</th>\n",
              "      <th>Recall</th>\n",
              "      <th>F1</th>\n",
              "      <th>MCC</th>\n",
              "    </tr>\n",
              "  </thead>\n",
              "  <tbody>\n",
              "    <tr>\n",
              "      <th>0</th>\n",
              "      <td>XGBClassifier</td>\n",
              "      <td>96.25</td>\n",
              "      <td>96.32</td>\n",
              "      <td>94.43</td>\n",
              "      <td>95.36</td>\n",
              "      <td>92.93</td>\n",
              "    </tr>\n",
              "    <tr>\n",
              "      <th>1</th>\n",
              "      <td>RandomForestClassifier</td>\n",
              "      <td>94.40</td>\n",
              "      <td>98.56</td>\n",
              "      <td>89.51</td>\n",
              "      <td>93.81</td>\n",
              "      <td>90.98</td>\n",
              "    </tr>\n",
              "    <tr>\n",
              "      <th>2</th>\n",
              "      <td>SVC</td>\n",
              "      <td>84.26</td>\n",
              "      <td>100.00</td>\n",
              "      <td>68.52</td>\n",
              "      <td>81.32</td>\n",
              "      <td>76.58</td>\n",
              "    </tr>\n",
              "    <tr>\n",
              "      <th>3</th>\n",
              "      <td>GaussianNB</td>\n",
              "      <td>58.34</td>\n",
              "      <td>39.12</td>\n",
              "      <td>99.67</td>\n",
              "      <td>56.19</td>\n",
              "      <td>25.22</td>\n",
              "    </tr>\n",
              "  </tbody>\n",
              "</table>\n",
              "</div>"
            ],
            "text/plain": [
              "                    Model  Balanced   Precision  Recall     F1    MCC\n",
              "0           XGBClassifier      96.25      96.32   94.43  95.36  92.93\n",
              "1  RandomForestClassifier      94.40      98.56   89.51  93.81  90.98\n",
              "2                     SVC      84.26     100.00   68.52  81.32  76.58\n",
              "3              GaussianNB      58.34      39.12   99.67  56.19  25.22"
            ]
          },
          "metadata": {
            "tags": []
          },
          "execution_count": 56
        }
      ]
    },
    {
      "cell_type": "code",
      "metadata": {
        "id": "3kWokzA3iykz",
        "colab_type": "code",
        "colab": {},
        "outputId": "06b62261-214a-471a-c35e-7432cb2c3d43"
      },
      "source": [
        "df.round(decimals=2).to_latex(index=False)"
      ],
      "execution_count": 0,
      "outputs": [
        {
          "output_type": "execute_result",
          "data": {
            "text/plain": [
              "'\\\\begin{tabular}{lrrrrr}\\n\\\\toprule\\n                  Model &  Balanced  &  Precision &  Recall &     F1 &    MCC \\\\\\\\\\n\\\\midrule\\n          XGBClassifier &      96.25 &      96.32 &   94.43 &  95.36 &  92.93 \\\\\\\\\\n RandomForestClassifier &      94.40 &      98.56 &   89.51 &  93.81 &  90.98 \\\\\\\\\\n                    SVC &      84.26 &     100.00 &   68.52 &  81.32 &  76.58 \\\\\\\\\\n             GaussianNB &      58.34 &      39.12 &   99.67 &  56.19 &  25.22 \\\\\\\\\\n\\\\bottomrule\\n\\\\end{tabular}\\n'"
            ]
          },
          "metadata": {
            "tags": []
          },
          "execution_count": 16
        }
      ]
    }
  ]
}